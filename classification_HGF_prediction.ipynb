{
 "cells": [
  {
   "cell_type": "markdown",
   "id": "8a36114a",
   "metadata": {},
   "source": [
    "# Machine Learning - Classification Models to Predict High-Growth-Firms (HGF)  "
   ]
  },
  {
   "cell_type": "code",
   "execution_count": 16,
   "id": "f1030134",
   "metadata": {},
   "outputs": [],
   "source": [
    "# The aim of this section is to use Classification Models to predict whether or not a company is considered as HGF\n",
    "# This is a binanry classification task (1 = HGF, and 0 = non-HFG)\n",
    "\n",
    "# The models Logistic Regression, Support Vector Machine (SVM), and K-Nearest Neighbours (KNN) are implemented. \n",
    "\n",
    "# The classification confusion matrix is used to measure and compare the performance of these models"
   ]
  },
  {
   "cell_type": "markdown",
   "id": "e82e982b",
   "metadata": {},
   "source": [
    "# 0. Data Preparation"
   ]
  },
  {
   "cell_type": "code",
   "execution_count": 17,
   "id": "99e3c691",
   "metadata": {},
   "outputs": [],
   "source": [
    "import pandas as pd\n",
    "import numpy as np\n",
    "from sklearn.experimental import enable_iterative_imputer\n",
    "from sklearn.impute import IterativeImputer"
   ]
  },
  {
   "cell_type": "code",
   "execution_count": 18,
   "id": "27ad0428",
   "metadata": {},
   "outputs": [],
   "source": [
    "# Read CSV file \n",
    "df = pd.read_csv(r\"C:\\Users\\natti\\OneDrive\\Desktop\\DS\\ML\\supervised learning\\Project - Assignment1\\VF\\data_assignment_1.csv\")"
   ]
  },
  {
   "cell_type": "code",
   "execution_count": 19,
   "id": "b8def709",
   "metadata": {
    "scrolled": true
   },
   "outputs": [
    {
     "name": "stdout",
     "output_type": "stream",
     "text": [
      "Unnamed: 0      int64\n",
      "id              int64\n",
      "year            int64\n",
      "yearest       float64\n",
      "industry      float64\n",
      "pertot        float64\n",
      "enggrad       float64\n",
      "sales         float64\n",
      "va            float64\n",
      "gom           float64\n",
      "rdint         float64\n",
      "reext         float64\n",
      "ipnc          float64\n",
      "ipnf          float64\n",
      "ipnm          float64\n",
      "ipr           float64\n",
      "patent        float64\n",
      "dtype: object\n"
     ]
    }
   ],
   "source": [
    "# Check data type of each column\n",
    "print(df.dtypes)"
   ]
  },
  {
   "cell_type": "code",
   "execution_count": 20,
   "id": "eb301677",
   "metadata": {},
   "outputs": [
    {
     "name": "stdout",
     "output_type": "stream",
     "text": [
      "   Unnamed: 0  id  year  yearest  industry  pertot  enggrad       sales  \\\n",
      "0           1   1  1990   1971.0      12.0   297.0      1.3  13582874.0   \n",
      "1           2   1  1991   1971.0       NaN     NaN      1.3         NaN   \n",
      "2           3   1  1992   1971.0       NaN     NaN      1.3         NaN   \n",
      "3           4   1  1993   1971.0       NaN     NaN      1.3         NaN   \n",
      "4           5   1  1994   1971.0      12.0   366.0      2.7  37156107.0   \n",
      "\n",
      "          va   gom     rdint  reext  ipnc  ipnf  ipnm  ipr  patent  \n",
      "0  7398459.0  14.3  216364.4    0.0   NaN   NaN   NaN  1.0     0.0  \n",
      "1        NaN   NaN       NaN    NaN   NaN   NaN   NaN  NaN     NaN  \n",
      "2        NaN   NaN       NaN    NaN   NaN   NaN   NaN  NaN     NaN  \n",
      "3        NaN   NaN       NaN    NaN   NaN   NaN   NaN  NaN     NaN  \n",
      "4  9943859.0   6.1  480809.7    0.0   0.0   0.0   0.0  1.0     0.0  \n"
     ]
    }
   ],
   "source": [
    "print(df.head())"
   ]
  },
  {
   "cell_type": "code",
   "execution_count": 21,
   "id": "dc35b27b",
   "metadata": {},
   "outputs": [],
   "source": [
    "# Iterative Imputation \n",
    "\n",
    "# Specify the columns to impute\n",
    "columns_to_impute = ['va', 'rdint', 'reext']\n",
    "\n",
    "# Initialize the IterativeImputer\n",
    "imputer = IterativeImputer(max_iter=10, random_state=0)\n",
    "\n",
    "# Fit and transform the imputer on the specified columns\n",
    "df[columns_to_impute] = imputer.fit_transform(df[columns_to_impute])"
   ]
  },
  {
   "cell_type": "code",
   "execution_count": 22,
   "id": "df28464b",
   "metadata": {},
   "outputs": [],
   "source": [
    "# Find the minimum yearest (year established) value for each company\n",
    "min_yearest = df.groupby('id')['yearest'].min().reset_index()"
   ]
  },
  {
   "cell_type": "code",
   "execution_count": 23,
   "id": "3b00f2cd",
   "metadata": {},
   "outputs": [],
   "source": [
    "# Merge the minimum yearest back into the main dataframe based on 'id'\n",
    "df = df.merge(min_yearest, on='id', suffixes=('', '_min'))\n",
    "\n",
    "# Fill the 'yearest' column with the minimum year for each company\n",
    "df['yearest'] = df['yearest_min']"
   ]
  },
  {
   "cell_type": "code",
   "execution_count": 24,
   "id": "c82ed319",
   "metadata": {
    "collapsed": true
   },
   "outputs": [
    {
     "name": "stderr",
     "output_type": "stream",
     "text": [
      "C:\\Users\\natti\\AppData\\Local\\Temp\\ipykernel_17212\\3238646972.py:2: FutureWarning: Not prepending group keys to the result index of transform-like apply. In the future, the group keys will be included in the index, regardless of whether the applied function returns a like-indexed object.\n",
      "To preserve the previous behavior, use\n",
      "\n",
      "\t>>> .groupby(..., group_keys=False)\n",
      "\n",
      "To adopt the future behavior and silence this warning, use \n",
      "\n",
      "\t>>> .groupby(..., group_keys=True)\n",
      "  df['sales'] = df.groupby('id')['sales'].apply(lambda x: x.interpolate().bfill().ffill())\n"
     ]
    }
   ],
   "source": [
    "# Linearly interpolate the 'sales' column\n",
    "df['sales'] = df.groupby('id')['sales'].apply(lambda x: x.interpolate().bfill().ffill())"
   ]
  },
  {
   "cell_type": "code",
   "execution_count": 25,
   "id": "cf3e1469",
   "metadata": {
    "collapsed": true
   },
   "outputs": [
    {
     "name": "stderr",
     "output_type": "stream",
     "text": [
      "C:\\Users\\natti\\AppData\\Local\\Temp\\ipykernel_17212\\2575587288.py:5: FutureWarning: Not prepending group keys to the result index of transform-like apply. In the future, the group keys will be included in the index, regardless of whether the applied function returns a like-indexed object.\n",
      "To preserve the previous behavior, use\n",
      "\n",
      "\t>>> .groupby(..., group_keys=False)\n",
      "\n",
      "To adopt the future behavior and silence this warning, use \n",
      "\n",
      "\t>>> .groupby(..., group_keys=True)\n",
      "  df[col] = df.groupby('id')[col].apply(lambda x: x.ffill().bfill())\n",
      "C:\\Users\\natti\\AppData\\Local\\Temp\\ipykernel_17212\\2575587288.py:5: FutureWarning: Not prepending group keys to the result index of transform-like apply. In the future, the group keys will be included in the index, regardless of whether the applied function returns a like-indexed object.\n",
      "To preserve the previous behavior, use\n",
      "\n",
      "\t>>> .groupby(..., group_keys=False)\n",
      "\n",
      "To adopt the future behavior and silence this warning, use \n",
      "\n",
      "\t>>> .groupby(..., group_keys=True)\n",
      "  df[col] = df.groupby('id')[col].apply(lambda x: x.ffill().bfill())\n",
      "C:\\Users\\natti\\AppData\\Local\\Temp\\ipykernel_17212\\2575587288.py:5: FutureWarning: Not prepending group keys to the result index of transform-like apply. In the future, the group keys will be included in the index, regardless of whether the applied function returns a like-indexed object.\n",
      "To preserve the previous behavior, use\n",
      "\n",
      "\t>>> .groupby(..., group_keys=False)\n",
      "\n",
      "To adopt the future behavior and silence this warning, use \n",
      "\n",
      "\t>>> .groupby(..., group_keys=True)\n",
      "  df[col] = df.groupby('id')[col].apply(lambda x: x.ffill().bfill())\n",
      "C:\\Users\\natti\\AppData\\Local\\Temp\\ipykernel_17212\\2575587288.py:5: FutureWarning: Not prepending group keys to the result index of transform-like apply. In the future, the group keys will be included in the index, regardless of whether the applied function returns a like-indexed object.\n",
      "To preserve the previous behavior, use\n",
      "\n",
      "\t>>> .groupby(..., group_keys=False)\n",
      "\n",
      "To adopt the future behavior and silence this warning, use \n",
      "\n",
      "\t>>> .groupby(..., group_keys=True)\n",
      "  df[col] = df.groupby('id')[col].apply(lambda x: x.ffill().bfill())\n",
      "C:\\Users\\natti\\AppData\\Local\\Temp\\ipykernel_17212\\2575587288.py:5: FutureWarning: Not prepending group keys to the result index of transform-like apply. In the future, the group keys will be included in the index, regardless of whether the applied function returns a like-indexed object.\n",
      "To preserve the previous behavior, use\n",
      "\n",
      "\t>>> .groupby(..., group_keys=False)\n",
      "\n",
      "To adopt the future behavior and silence this warning, use \n",
      "\n",
      "\t>>> .groupby(..., group_keys=True)\n",
      "  df[col] = df.groupby('id')[col].apply(lambda x: x.ffill().bfill())\n",
      "C:\\Users\\natti\\AppData\\Local\\Temp\\ipykernel_17212\\2575587288.py:5: FutureWarning: Not prepending group keys to the result index of transform-like apply. In the future, the group keys will be included in the index, regardless of whether the applied function returns a like-indexed object.\n",
      "To preserve the previous behavior, use\n",
      "\n",
      "\t>>> .groupby(..., group_keys=False)\n",
      "\n",
      "To adopt the future behavior and silence this warning, use \n",
      "\n",
      "\t>>> .groupby(..., group_keys=True)\n",
      "  df[col] = df.groupby('id')[col].apply(lambda x: x.ffill().bfill())\n"
     ]
    }
   ],
   "source": [
    "# Columns to exclude from the zero replacement\n",
    "exclude_columns = ['id', 'year', 'industry', 'pertot', 'enggrad', 'gom']\n",
    "# Impute missing values for columns in the exclude list\n",
    "for col in exclude_columns:\n",
    "    df[col] = df.groupby('id')[col].apply(lambda x: x.ffill().bfill())"
   ]
  },
  {
   "cell_type": "code",
   "execution_count": 26,
   "id": "79997598",
   "metadata": {},
   "outputs": [],
   "source": [
    "# Find columns with NaN values that are not in the exclude list\n",
    "nan_columns = df.columns[df.isna().any()].tolist()"
   ]
  },
  {
   "cell_type": "code",
   "execution_count": 27,
   "id": "423ac6be",
   "metadata": {},
   "outputs": [],
   "source": [
    "# Exclude columns that are not part of the imputation process\n",
    "nan_columns = [col for col in nan_columns if col not in columns_to_impute]"
   ]
  },
  {
   "cell_type": "code",
   "execution_count": 28,
   "id": "6489e503",
   "metadata": {},
   "outputs": [],
   "source": [
    "# Replace NaN values with zeros only in columns that are not excluded\n",
    "df[nan_columns] = df[nan_columns].fillna(0)"
   ]
  },
  {
   "cell_type": "code",
   "execution_count": 29,
   "id": "d2c78b2d",
   "metadata": {},
   "outputs": [],
   "source": [
    "# Drop the first column (running number column) as it might introduce noise in Linear Regression\n",
    "df = df.drop('Unnamed: 0', axis=1)\n",
    "df = df.drop('yearest_min', axis=1)"
   ]
  },
  {
   "cell_type": "code",
   "execution_count": 49,
   "id": "82db9945",
   "metadata": {
    "scrolled": true
   },
   "outputs": [
    {
     "name": "stdout",
     "output_type": "stream",
     "text": [
      "5292\n"
     ]
    }
   ],
   "source": [
    "# Add column to calculate High Growth Rate (10 percentile)\n",
    "df['Growth_Rate'] = df.groupby('id')['sales'].pct_change() * 100\n",
    "\n",
    "# Check for NaN values in the 'Growth_Rate' column\n",
    "print(df['Growth_Rate'].isna().sum())"
   ]
  },
  {
   "cell_type": "code",
   "execution_count": 50,
   "id": "6222aa3c",
   "metadata": {
    "collapsed": true
   },
   "outputs": [
    {
     "name": "stderr",
     "output_type": "stream",
     "text": [
      "C:\\Users\\natti\\AppData\\Local\\Temp\\ipykernel_17212\\636047531.py:2: FutureWarning: Not prepending group keys to the result index of transform-like apply. In the future, the group keys will be included in the index, regardless of whether the applied function returns a like-indexed object.\n",
      "To preserve the previous behavior, use\n",
      "\n",
      "\t>>> .groupby(..., group_keys=False)\n",
      "\n",
      "To adopt the future behavior and silence this warning, use \n",
      "\n",
      "\t>>> .groupby(..., group_keys=True)\n",
      "  df['Growth_Rate'] = df.groupby('id')['Growth_Rate'].apply(lambda x: x.interpolate().bfill().ffill())\n"
     ]
    }
   ],
   "source": [
    "# Linearly interpolate the 'Growth_Rate' column\n",
    "df['Growth_Rate'] = df.groupby('id')['Growth_Rate'].apply(lambda x: x.interpolate().bfill().ffill())"
   ]
  },
  {
   "cell_type": "code",
   "execution_count": 76,
   "id": "06b3cfdf",
   "metadata": {},
   "outputs": [],
   "source": [
    "#Drop all the values belonging to 1990 because it has NA growth rate\n",
    "df = df[df['year']!=1990]\n",
    "\n",
    "# Calculate the 10th percentile of the 'Value' column\n",
    "percentile_10 = np.percentile(df['Growth_Rate'], 10)\n",
    "\n",
    "# Create a new column 'HGF' with values 1 if 'Value' is greater than or equal to the 10th percentile, else 0\n",
    "df['HGF'] = (df['Growth_Rate'] >= percentile_10).astype(int)\n",
    "## if the growth rate in sales of the company is above the 10% percentile the company is HGF (=1) else (=0)"
   ]
  },
  {
   "cell_type": "code",
   "execution_count": 77,
   "id": "d3f3121a",
   "metadata": {},
   "outputs": [
    {
     "name": "stdout",
     "output_type": "stream",
     "text": [
      "0\n"
     ]
    }
   ],
   "source": [
    "# Check for NaN values in the 'Growth_Rate' column\n",
    "print(df['HGF'].isna().sum())"
   ]
  },
  {
   "cell_type": "code",
   "execution_count": 78,
   "id": "5453bd06",
   "metadata": {
    "scrolled": true
   },
   "outputs": [
    {
     "name": "stdout",
     "output_type": "stream",
     "text": [
      "    Column Name  Missing Percentage\n",
      "0            id                 0.0\n",
      "1          year                 0.0\n",
      "16  Growth_Rate                 0.0\n",
      "15       patent                 0.0\n",
      "14          ipr                 0.0\n",
      "13         ipnm                 0.0\n",
      "12         ipnf                 0.0\n",
      "11         ipnc                 0.0\n",
      "10        reext                 0.0\n",
      "9         rdint                 0.0\n",
      "8           gom                 0.0\n",
      "7            va                 0.0\n",
      "6         sales                 0.0\n",
      "5       enggrad                 0.0\n",
      "4        pertot                 0.0\n",
      "3      industry                 0.0\n",
      "2       yearest                 0.0\n",
      "17          HGF                 0.0\n"
     ]
    },
    {
     "name": "stderr",
     "output_type": "stream",
     "text": [
      "C:\\Users\\natti\\AppData\\Local\\Temp\\ipykernel_17212\\1140047198.py:7: FutureWarning: The frame.append method is deprecated and will be removed from pandas in a future version. Use pandas.concat instead.\n",
      "  missing_info = missing_info.append({'Column Name': column, 'Missing Percentage': missing_percentage}, ignore_index=True)\n",
      "C:\\Users\\natti\\AppData\\Local\\Temp\\ipykernel_17212\\1140047198.py:7: FutureWarning: The frame.append method is deprecated and will be removed from pandas in a future version. Use pandas.concat instead.\n",
      "  missing_info = missing_info.append({'Column Name': column, 'Missing Percentage': missing_percentage}, ignore_index=True)\n",
      "C:\\Users\\natti\\AppData\\Local\\Temp\\ipykernel_17212\\1140047198.py:7: FutureWarning: The frame.append method is deprecated and will be removed from pandas in a future version. Use pandas.concat instead.\n",
      "  missing_info = missing_info.append({'Column Name': column, 'Missing Percentage': missing_percentage}, ignore_index=True)\n",
      "C:\\Users\\natti\\AppData\\Local\\Temp\\ipykernel_17212\\1140047198.py:7: FutureWarning: The frame.append method is deprecated and will be removed from pandas in a future version. Use pandas.concat instead.\n",
      "  missing_info = missing_info.append({'Column Name': column, 'Missing Percentage': missing_percentage}, ignore_index=True)\n",
      "C:\\Users\\natti\\AppData\\Local\\Temp\\ipykernel_17212\\1140047198.py:7: FutureWarning: The frame.append method is deprecated and will be removed from pandas in a future version. Use pandas.concat instead.\n",
      "  missing_info = missing_info.append({'Column Name': column, 'Missing Percentage': missing_percentage}, ignore_index=True)\n",
      "C:\\Users\\natti\\AppData\\Local\\Temp\\ipykernel_17212\\1140047198.py:7: FutureWarning: The frame.append method is deprecated and will be removed from pandas in a future version. Use pandas.concat instead.\n",
      "  missing_info = missing_info.append({'Column Name': column, 'Missing Percentage': missing_percentage}, ignore_index=True)\n",
      "C:\\Users\\natti\\AppData\\Local\\Temp\\ipykernel_17212\\1140047198.py:7: FutureWarning: The frame.append method is deprecated and will be removed from pandas in a future version. Use pandas.concat instead.\n",
      "  missing_info = missing_info.append({'Column Name': column, 'Missing Percentage': missing_percentage}, ignore_index=True)\n",
      "C:\\Users\\natti\\AppData\\Local\\Temp\\ipykernel_17212\\1140047198.py:7: FutureWarning: The frame.append method is deprecated and will be removed from pandas in a future version. Use pandas.concat instead.\n",
      "  missing_info = missing_info.append({'Column Name': column, 'Missing Percentage': missing_percentage}, ignore_index=True)\n",
      "C:\\Users\\natti\\AppData\\Local\\Temp\\ipykernel_17212\\1140047198.py:7: FutureWarning: The frame.append method is deprecated and will be removed from pandas in a future version. Use pandas.concat instead.\n",
      "  missing_info = missing_info.append({'Column Name': column, 'Missing Percentage': missing_percentage}, ignore_index=True)\n",
      "C:\\Users\\natti\\AppData\\Local\\Temp\\ipykernel_17212\\1140047198.py:7: FutureWarning: The frame.append method is deprecated and will be removed from pandas in a future version. Use pandas.concat instead.\n",
      "  missing_info = missing_info.append({'Column Name': column, 'Missing Percentage': missing_percentage}, ignore_index=True)\n",
      "C:\\Users\\natti\\AppData\\Local\\Temp\\ipykernel_17212\\1140047198.py:7: FutureWarning: The frame.append method is deprecated and will be removed from pandas in a future version. Use pandas.concat instead.\n",
      "  missing_info = missing_info.append({'Column Name': column, 'Missing Percentage': missing_percentage}, ignore_index=True)\n",
      "C:\\Users\\natti\\AppData\\Local\\Temp\\ipykernel_17212\\1140047198.py:7: FutureWarning: The frame.append method is deprecated and will be removed from pandas in a future version. Use pandas.concat instead.\n",
      "  missing_info = missing_info.append({'Column Name': column, 'Missing Percentage': missing_percentage}, ignore_index=True)\n",
      "C:\\Users\\natti\\AppData\\Local\\Temp\\ipykernel_17212\\1140047198.py:7: FutureWarning: The frame.append method is deprecated and will be removed from pandas in a future version. Use pandas.concat instead.\n",
      "  missing_info = missing_info.append({'Column Name': column, 'Missing Percentage': missing_percentage}, ignore_index=True)\n",
      "C:\\Users\\natti\\AppData\\Local\\Temp\\ipykernel_17212\\1140047198.py:7: FutureWarning: The frame.append method is deprecated and will be removed from pandas in a future version. Use pandas.concat instead.\n",
      "  missing_info = missing_info.append({'Column Name': column, 'Missing Percentage': missing_percentage}, ignore_index=True)\n",
      "C:\\Users\\natti\\AppData\\Local\\Temp\\ipykernel_17212\\1140047198.py:7: FutureWarning: The frame.append method is deprecated and will be removed from pandas in a future version. Use pandas.concat instead.\n",
      "  missing_info = missing_info.append({'Column Name': column, 'Missing Percentage': missing_percentage}, ignore_index=True)\n",
      "C:\\Users\\natti\\AppData\\Local\\Temp\\ipykernel_17212\\1140047198.py:7: FutureWarning: The frame.append method is deprecated and will be removed from pandas in a future version. Use pandas.concat instead.\n",
      "  missing_info = missing_info.append({'Column Name': column, 'Missing Percentage': missing_percentage}, ignore_index=True)\n",
      "C:\\Users\\natti\\AppData\\Local\\Temp\\ipykernel_17212\\1140047198.py:7: FutureWarning: The frame.append method is deprecated and will be removed from pandas in a future version. Use pandas.concat instead.\n",
      "  missing_info = missing_info.append({'Column Name': column, 'Missing Percentage': missing_percentage}, ignore_index=True)\n",
      "C:\\Users\\natti\\AppData\\Local\\Temp\\ipykernel_17212\\1140047198.py:7: FutureWarning: The frame.append method is deprecated and will be removed from pandas in a future version. Use pandas.concat instead.\n",
      "  missing_info = missing_info.append({'Column Name': column, 'Missing Percentage': missing_percentage}, ignore_index=True)\n"
     ]
    }
   ],
   "source": [
    "# Create an empty DataFrame to store the missing percentage information\n",
    "missing_info = pd.DataFrame(columns=['Column Name', 'Missing Percentage'])\n",
    "\n",
    "# Calculate the missing percentage for each column and store it in the DataFrame\n",
    "for column in df.columns:\n",
    "    missing_percentage = (df[column].isnull().sum() / len(df)) * 100\n",
    "    missing_info = missing_info.append({'Column Name': column, 'Missing Percentage': missing_percentage}, ignore_index=True)\n",
    "\n",
    "# Sort the DataFrame by missing percentage (descending order)\n",
    "missing_info = missing_info.sort_values(by='Missing Percentage', ascending=False)\n",
    "\n",
    "# Print the missing information\n",
    "print(missing_info)"
   ]
  },
  {
   "cell_type": "markdown",
   "id": "504e77c3",
   "metadata": {},
   "source": [
    "## 0. Split Training and Testing Dataset"
   ]
  },
  {
   "cell_type": "code",
   "execution_count": 79,
   "id": "7026e798",
   "metadata": {},
   "outputs": [
    {
     "name": "stdout",
     "output_type": "stream",
     "text": [
      "Training data shape: (100018, 18)\n",
      "Validation data shape: (11114, 18)\n",
      "Testing data shape: (5292, 18)\n"
     ]
    }
   ],
   "source": [
    "# The dataset contains the year of operation from 1990 - 2012 \n",
    "# To ensure rationality of the outcome. I was assigned to use the dataset of year 2012 as test dataset\n",
    "\n",
    "# Extract rows for training (years before 2012)\n",
    "train_df = df[df['year'] < 2012]\n",
    "\n",
    "from sklearn.model_selection import train_test_split\n",
    "\n",
    "# Split the training data into training and validation sets\n",
    "train_df, validation_df = train_test_split(train_df, test_size=0.1, random_state=42)\n",
    "\n",
    "# Extract rows for testing (year 2012)\n",
    "test_df = df[df['year'] == 2012]\n",
    "\n",
    "# Display the shape of training and testing sets\n",
    "print(\"Training data shape:\", train_df.shape)\n",
    "print(\"Validation data shape:\", validation_df.shape)\n",
    "print(\"Testing data shape:\", test_df.shape)"
   ]
  },
  {
   "cell_type": "code",
   "execution_count": 80,
   "id": "c0da081d",
   "metadata": {},
   "outputs": [
    {
     "name": "stdout",
     "output_type": "stream",
     "text": [
      "          id  year  yearest  industry  pertot  enggrad       sales  \\\n",
      "43725   1902  1992   1958.0      14.0    37.0      2.2   2759403.0   \n",
      "16735    728  2004   1966.0      11.0     9.0      0.0    595068.0   \n",
      "119544  5198  2003      0.0       9.0   188.0      4.8  16758236.0   \n",
      "9051     394  2002   1964.0      20.0   472.0      1.7  48331430.0   \n",
      "111900  4866  1995      0.0       2.0    52.0      7.7  13841816.0   \n",
      "\n",
      "                  va   gom          rdint          reext  ipnc  ipnf  ipnm  \\\n",
      "43725   1.582819e+06  22.0       0.000000       0.000000   0.0   0.0   0.0   \n",
      "16735   2.829906e+07  14.8  428660.335272  288497.607754   0.0   0.0   0.0   \n",
      "119544  2.829906e+07   9.0  428660.335272  288497.607754   0.0   0.0   0.0   \n",
      "9051    2.526530e+07  15.8  129286.000000       0.000000   0.0   0.0   0.0   \n",
      "111900  2.829906e+07  12.1  428660.335272  288497.607754   0.0   0.0   0.0   \n",
      "\n",
      "        ipr  patent  Growth_Rate  HGF  \n",
      "43725   0.0     0.0   -29.413331    0  \n",
      "16735   0.0     0.0     0.000000    1  \n",
      "119544  0.0     0.0     0.000000    1  \n",
      "9051    0.0     0.0     4.275743    1  \n",
      "111900  0.0     0.0     0.000000    1  \n"
     ]
    }
   ],
   "source": [
    "print(train_df.head())"
   ]
  },
  {
   "cell_type": "code",
   "execution_count": 81,
   "id": "d787dd8c",
   "metadata": {},
   "outputs": [
    {
     "name": "stdout",
     "output_type": "stream",
     "text": [
      "Class counts:\n",
      "1    104781\n",
      "0     11643\n",
      "Name: HGF, dtype: int64\n"
     ]
    }
   ],
   "source": [
    "# Count occurrences of each class in the 'HGF' column\n",
    "class_counts = df['HGF'].value_counts()\n",
    "\n",
    "print(\"Class counts:\")\n",
    "print(class_counts)"
   ]
  },
  {
   "cell_type": "markdown",
   "id": "28355d13",
   "metadata": {},
   "source": [
    "# 1. Classification Models"
   ]
  },
  {
   "cell_type": "markdown",
   "id": "c5813392",
   "metadata": {},
   "source": [
    "## 1.0 Data Preprocessing"
   ]
  },
  {
   "cell_type": "code",
   "execution_count": 82,
   "id": "a8e91690",
   "metadata": {},
   "outputs": [],
   "source": [
    "import pandas as pd\n",
    "import numpy as np\n",
    "from sklearn.preprocessing import StandardScaler\n",
    "from sklearn.metrics import roc_curve, auc\n",
    "import matplotlib.pyplot as plt\n",
    "from sklearn.metrics import confusion_matrix"
   ]
  },
  {
   "cell_type": "code",
   "execution_count": 83,
   "id": "aa5c90c2",
   "metadata": {},
   "outputs": [
    {
     "name": "stderr",
     "output_type": "stream",
     "text": [
      "C:\\Users\\natti\\AppData\\Local\\Temp\\ipykernel_17212\\385403934.py:9: SettingWithCopyWarning: \n",
      "A value is trying to be set on a copy of a slice from a DataFrame.\n",
      "Try using .loc[row_indexer,col_indexer] = value instead\n",
      "\n",
      "See the caveats in the documentation: https://pandas.pydata.org/pandas-docs/stable/user_guide/indexing.html#returning-a-view-versus-a-copy\n",
      "  test_df[['pertot', 'enggrad', 'sales','va', 'gom', 'rdint', 'reext', 'patent']] = scaler.transform(test_df[['pertot', 'enggrad', 'sales','va', 'gom', 'rdint', 'reext', 'patent']])\n"
     ]
    }
   ],
   "source": [
    "#Standardized the data to have all the columns with the same scales\n",
    "def preprocessor(train_df,test_df, validation_df):\n",
    "    # Initialize StandardScaler and fit it to the training data\n",
    "    scaler = StandardScaler().fit(train_df[['pertot', 'enggrad', 'sales', 'va', 'gom', 'rdint', 'reext', 'patent']])\n",
    "    \n",
    "    # Standardize selected columns for both training and testing data\n",
    "    train_df[['pertot', 'enggrad','sales', 'va', 'gom', 'rdint', 'reext', 'patent']] = scaler.transform(train_df[['pertot', 'enggrad','sales', 'va', 'gom', 'rdint', 'reext', 'patent']])\n",
    "    validation_df[['pertot', 'enggrad', 'sales','va', 'gom', 'rdint', 'reext', 'patent']] = scaler.transform(validation_df[['pertot', 'enggrad', 'sales','va', 'gom', 'rdint', 'reext', 'patent']])\n",
    "    test_df[['pertot', 'enggrad', 'sales','va', 'gom', 'rdint', 'reext', 'patent']] = scaler.transform(test_df[['pertot', 'enggrad', 'sales','va', 'gom', 'rdint', 'reext', 'patent']])\n",
    "    \n",
    "    return  train_df, test_df, validation_df\n",
    "\n",
    "train_df_preprocessed, test_df_preprocessed, validation_df_preprocessed = preprocessor(train_df,test_df,validation_df)"
   ]
  },
  {
   "cell_type": "code",
   "execution_count": 84,
   "id": "cad65a47",
   "metadata": {},
   "outputs": [],
   "source": [
    "# Drop unecessary columns \n",
    "train_df_preprocessed = train_df_preprocessed.drop(columns=['id', 'Growth_Rate', 'year'])\n",
    "validation_df_preprocessed = validation_df_preprocessed.drop(columns=['id', 'Growth_Rate', 'year'])\n",
    "test_df_preprocessed = test_df_preprocessed.drop(columns=['id', 'Growth_Rate', 'year'])"
   ]
  },
  {
   "cell_type": "code",
   "execution_count": 85,
   "id": "65840ea6",
   "metadata": {},
   "outputs": [],
   "source": [
    "# Features and target variable for training set\n",
    "X_train = train_df_preprocessed.drop(\"HGF\", axis=1)  # Features (exclude \"HGF\" column)\n",
    "y_train = train_df_preprocessed[\"HGF\"]  # Target variable"
   ]
  },
  {
   "cell_type": "code",
   "execution_count": 86,
   "id": "18204402",
   "metadata": {},
   "outputs": [],
   "source": [
    "# Features and target variable for validation set\n",
    "X_val = validation_df_preprocessed.drop(\"HGF\", axis=1)  # Features (exclude \"HGF\" column) for validation\n",
    "y_val = validation_df_preprocessed[\"HGF\"]  # Target variable for validation set"
   ]
  },
  {
   "cell_type": "code",
   "execution_count": 87,
   "id": "36466609",
   "metadata": {},
   "outputs": [],
   "source": [
    "# Features and target variable for testing set\n",
    "X_test = test_df_preprocessed.drop(\"HGF\", axis=1)  # Features (exclude \"HGF\" column) for testing\n",
    "y_test = test_df_preprocessed[\"HGF\"]  # Target variable for testing set"
   ]
  },
  {
   "cell_type": "markdown",
   "id": "8ab297f5",
   "metadata": {},
   "source": [
    "## 1.1 Logistic Regression"
   ]
  },
  {
   "cell_type": "code",
   "execution_count": null,
   "id": "559d7566",
   "metadata": {},
   "outputs": [],
   "source": [
    "from sklearn.linear_model import LogisticRegression"
   ]
  },
  {
   "cell_type": "code",
   "execution_count": 88,
   "id": "ff3193f5",
   "metadata": {},
   "outputs": [],
   "source": [
    "# Instantiate the model\n",
    "logistic_model = LogisticRegression(max_iter=1000)"
   ]
  },
  {
   "cell_type": "code",
   "execution_count": 89,
   "id": "81ac205a",
   "metadata": {},
   "outputs": [
    {
     "data": {
      "text/html": [
       "<style>#sk-container-id-1 {color: black;}#sk-container-id-1 pre{padding: 0;}#sk-container-id-1 div.sk-toggleable {background-color: white;}#sk-container-id-1 label.sk-toggleable__label {cursor: pointer;display: block;width: 100%;margin-bottom: 0;padding: 0.3em;box-sizing: border-box;text-align: center;}#sk-container-id-1 label.sk-toggleable__label-arrow:before {content: \"▸\";float: left;margin-right: 0.25em;color: #696969;}#sk-container-id-1 label.sk-toggleable__label-arrow:hover:before {color: black;}#sk-container-id-1 div.sk-estimator:hover label.sk-toggleable__label-arrow:before {color: black;}#sk-container-id-1 div.sk-toggleable__content {max-height: 0;max-width: 0;overflow: hidden;text-align: left;background-color: #f0f8ff;}#sk-container-id-1 div.sk-toggleable__content pre {margin: 0.2em;color: black;border-radius: 0.25em;background-color: #f0f8ff;}#sk-container-id-1 input.sk-toggleable__control:checked~div.sk-toggleable__content {max-height: 200px;max-width: 100%;overflow: auto;}#sk-container-id-1 input.sk-toggleable__control:checked~label.sk-toggleable__label-arrow:before {content: \"▾\";}#sk-container-id-1 div.sk-estimator input.sk-toggleable__control:checked~label.sk-toggleable__label {background-color: #d4ebff;}#sk-container-id-1 div.sk-label input.sk-toggleable__control:checked~label.sk-toggleable__label {background-color: #d4ebff;}#sk-container-id-1 input.sk-hidden--visually {border: 0;clip: rect(1px 1px 1px 1px);clip: rect(1px, 1px, 1px, 1px);height: 1px;margin: -1px;overflow: hidden;padding: 0;position: absolute;width: 1px;}#sk-container-id-1 div.sk-estimator {font-family: monospace;background-color: #f0f8ff;border: 1px dotted black;border-radius: 0.25em;box-sizing: border-box;margin-bottom: 0.5em;}#sk-container-id-1 div.sk-estimator:hover {background-color: #d4ebff;}#sk-container-id-1 div.sk-parallel-item::after {content: \"\";width: 100%;border-bottom: 1px solid gray;flex-grow: 1;}#sk-container-id-1 div.sk-label:hover label.sk-toggleable__label {background-color: #d4ebff;}#sk-container-id-1 div.sk-serial::before {content: \"\";position: absolute;border-left: 1px solid gray;box-sizing: border-box;top: 0;bottom: 0;left: 50%;z-index: 0;}#sk-container-id-1 div.sk-serial {display: flex;flex-direction: column;align-items: center;background-color: white;padding-right: 0.2em;padding-left: 0.2em;position: relative;}#sk-container-id-1 div.sk-item {position: relative;z-index: 1;}#sk-container-id-1 div.sk-parallel {display: flex;align-items: stretch;justify-content: center;background-color: white;position: relative;}#sk-container-id-1 div.sk-item::before, #sk-container-id-1 div.sk-parallel-item::before {content: \"\";position: absolute;border-left: 1px solid gray;box-sizing: border-box;top: 0;bottom: 0;left: 50%;z-index: -1;}#sk-container-id-1 div.sk-parallel-item {display: flex;flex-direction: column;z-index: 1;position: relative;background-color: white;}#sk-container-id-1 div.sk-parallel-item:first-child::after {align-self: flex-end;width: 50%;}#sk-container-id-1 div.sk-parallel-item:last-child::after {align-self: flex-start;width: 50%;}#sk-container-id-1 div.sk-parallel-item:only-child::after {width: 0;}#sk-container-id-1 div.sk-dashed-wrapped {border: 1px dashed gray;margin: 0 0.4em 0.5em 0.4em;box-sizing: border-box;padding-bottom: 0.4em;background-color: white;}#sk-container-id-1 div.sk-label label {font-family: monospace;font-weight: bold;display: inline-block;line-height: 1.2em;}#sk-container-id-1 div.sk-label-container {text-align: center;}#sk-container-id-1 div.sk-container {/* jupyter's `normalize.less` sets `[hidden] { display: none; }` but bootstrap.min.css set `[hidden] { display: none !important; }` so we also need the `!important` here to be able to override the default hidden behavior on the sphinx rendered scikit-learn.org. See: https://github.com/scikit-learn/scikit-learn/issues/21755 */display: inline-block !important;position: relative;}#sk-container-id-1 div.sk-text-repr-fallback {display: none;}</style><div id=\"sk-container-id-1\" class=\"sk-top-container\"><div class=\"sk-text-repr-fallback\"><pre>LogisticRegression(max_iter=1000)</pre><b>In a Jupyter environment, please rerun this cell to show the HTML representation or trust the notebook. <br />On GitHub, the HTML representation is unable to render, please try loading this page with nbviewer.org.</b></div><div class=\"sk-container\" hidden><div class=\"sk-item\"><div class=\"sk-estimator sk-toggleable\"><input class=\"sk-toggleable__control sk-hidden--visually\" id=\"sk-estimator-id-1\" type=\"checkbox\" checked><label for=\"sk-estimator-id-1\" class=\"sk-toggleable__label sk-toggleable__label-arrow\">LogisticRegression</label><div class=\"sk-toggleable__content\"><pre>LogisticRegression(max_iter=1000)</pre></div></div></div></div></div>"
      ],
      "text/plain": [
       "LogisticRegression(max_iter=1000)"
      ]
     },
     "execution_count": 89,
     "metadata": {},
     "output_type": "execute_result"
    }
   ],
   "source": [
    "# Train the model\n",
    "logistic_model.fit(X_train, y_train)"
   ]
  },
  {
   "cell_type": "code",
   "execution_count": 90,
   "id": "00506439",
   "metadata": {},
   "outputs": [],
   "source": [
    "#Make predicitons\n",
    "y_log_train_pred = logistic_model.predict(X_train)\n",
    "y_log_val_pred = logistic_model.predict(X_val)\n",
    "y_log_test_pred = logistic_model.predict(X_test)"
   ]
  },
  {
   "cell_type": "code",
   "execution_count": 91,
   "id": "08c1f113",
   "metadata": {},
   "outputs": [
    {
     "name": "stdout",
     "output_type": "stream",
     "text": [
      "              precision    recall  f1-score   support\n",
      "\n",
      "           0       0.00      0.00      0.00       817\n",
      "           1       0.85      1.00      0.92      4475\n",
      "\n",
      "    accuracy                           0.85      5292\n",
      "   macro avg       0.42      0.50      0.46      5292\n",
      "weighted avg       0.71      0.85      0.77      5292\n",
      "\n"
     ]
    }
   ],
   "source": [
    "# Print classification report\n",
    "print(classification_report(y_test, y_log_test_pred))"
   ]
  },
  {
   "cell_type": "code",
   "execution_count": 92,
   "id": "2d975b63",
   "metadata": {},
   "outputs": [
    {
     "data": {
      "image/png": "[encoded data removed]",
      "text/plain": [
       "<Figure size 800x600 with 1 Axes>"
      ]
     },
     "metadata": {},
     "output_type": "display_data"
    }
   ],
   "source": [
    "#Plot sigmoid diagram\n",
    "# Generate a range of values for X for plotting the sigmoid curve\n",
    "X_range = np.linspace(-10, 35, 1000)  \n",
    "\n",
    "# Calculate the predicted probabilities using the logistic function (sigmoid)\n",
    "predicted_probabilities = 1 / (1 + np.exp(-X_range))\n",
    "\n",
    "# Plot the sigmoid curve\n",
    "plt.figure(figsize=(8, 6))\n",
    "plt.plot(X_range, predicted_probabilities,color='blue', linewidth=2, label='Sigmoid Curve')  # Use [:, 1] to get probabilities for class 1\n",
    "plt.scatter(X_test['sales'], y_test, color='red', label='Test Data', marker='o')\n",
    "\n",
    "plt.xlabel('Standardized Sales')\n",
    "plt.ylabel('HGF')\n",
    "plt.title('Logistic Regression Sigmoid Curve')\n",
    "plt.legend()\n",
    "plt.grid(True)\n",
    "plt.show()"
   ]
  },
  {
   "cell_type": "markdown",
   "id": "1bb8e53d",
   "metadata": {},
   "source": [
    "## 1.2 Support Vector Machine SVM"
   ]
  },
  {
   "cell_type": "code",
   "execution_count": 114,
   "id": "85dd1dd9",
   "metadata": {},
   "outputs": [],
   "source": [
    "from sklearn.svm import SVC"
   ]
  },
  {
   "cell_type": "code",
   "execution_count": 115,
   "id": "f3a696a6",
   "metadata": {},
   "outputs": [],
   "source": [
    "# Instantiate the model\n",
    "#svm_classifier = SVC(kernel='rbf',class_weight='balanced', random_state=42)"
   ]
  },
  {
   "cell_type": "code",
   "execution_count": 116,
   "id": "fefa3e3e",
   "metadata": {},
   "outputs": [],
   "source": [
    "from sklearn.utils import class_weight\n",
    "\n",
    "# Calculate class weights manually\n",
    "class_weights = class_weight.compute_class_weight('balanced', classes=np.unique(y_train), y=y_train)\n",
    "class_weight_dict = {class_label: weight for class_label, weight in zip(np.unique(y_train), class_weights)}\n",
    "\n",
    "# Instantiate the model with manual class weights\n",
    "svm_classifier = SVC(kernel='rbf', class_weight=class_weight_dict, random_state=42)"
   ]
  },
  {
   "cell_type": "code",
   "execution_count": 117,
   "id": "32c26b23",
   "metadata": {},
   "outputs": [
    {
     "data": {
      "text/html": [
       "<style>#sk-container-id-4 {color: black;}#sk-container-id-4 pre{padding: 0;}#sk-container-id-4 div.sk-toggleable {background-color: white;}#sk-container-id-4 label.sk-toggleable__label {cursor: pointer;display: block;width: 100%;margin-bottom: 0;padding: 0.3em;box-sizing: border-box;text-align: center;}#sk-container-id-4 label.sk-toggleable__label-arrow:before {content: \"▸\";float: left;margin-right: 0.25em;color: #696969;}#sk-container-id-4 label.sk-toggleable__label-arrow:hover:before {color: black;}#sk-container-id-4 div.sk-estimator:hover label.sk-toggleable__label-arrow:before {color: black;}#sk-container-id-4 div.sk-toggleable__content {max-height: 0;max-width: 0;overflow: hidden;text-align: left;background-color: #f0f8ff;}#sk-container-id-4 div.sk-toggleable__content pre {margin: 0.2em;color: black;border-radius: 0.25em;background-color: #f0f8ff;}#sk-container-id-4 input.sk-toggleable__control:checked~div.sk-toggleable__content {max-height: 200px;max-width: 100%;overflow: auto;}#sk-container-id-4 input.sk-toggleable__control:checked~label.sk-toggleable__label-arrow:before {content: \"▾\";}#sk-container-id-4 div.sk-estimator input.sk-toggleable__control:checked~label.sk-toggleable__label {background-color: #d4ebff;}#sk-container-id-4 div.sk-label input.sk-toggleable__control:checked~label.sk-toggleable__label {background-color: #d4ebff;}#sk-container-id-4 input.sk-hidden--visually {border: 0;clip: rect(1px 1px 1px 1px);clip: rect(1px, 1px, 1px, 1px);height: 1px;margin: -1px;overflow: hidden;padding: 0;position: absolute;width: 1px;}#sk-container-id-4 div.sk-estimator {font-family: monospace;background-color: #f0f8ff;border: 1px dotted black;border-radius: 0.25em;box-sizing: border-box;margin-bottom: 0.5em;}#sk-container-id-4 div.sk-estimator:hover {background-color: #d4ebff;}#sk-container-id-4 div.sk-parallel-item::after {content: \"\";width: 100%;border-bottom: 1px solid gray;flex-grow: 1;}#sk-container-id-4 div.sk-label:hover label.sk-toggleable__label {background-color: #d4ebff;}#sk-container-id-4 div.sk-serial::before {content: \"\";position: absolute;border-left: 1px solid gray;box-sizing: border-box;top: 0;bottom: 0;left: 50%;z-index: 0;}#sk-container-id-4 div.sk-serial {display: flex;flex-direction: column;align-items: center;background-color: white;padding-right: 0.2em;padding-left: 0.2em;position: relative;}#sk-container-id-4 div.sk-item {position: relative;z-index: 1;}#sk-container-id-4 div.sk-parallel {display: flex;align-items: stretch;justify-content: center;background-color: white;position: relative;}#sk-container-id-4 div.sk-item::before, #sk-container-id-4 div.sk-parallel-item::before {content: \"\";position: absolute;border-left: 1px solid gray;box-sizing: border-box;top: 0;bottom: 0;left: 50%;z-index: -1;}#sk-container-id-4 div.sk-parallel-item {display: flex;flex-direction: column;z-index: 1;position: relative;background-color: white;}#sk-container-id-4 div.sk-parallel-item:first-child::after {align-self: flex-end;width: 50%;}#sk-container-id-4 div.sk-parallel-item:last-child::after {align-self: flex-start;width: 50%;}#sk-container-id-4 div.sk-parallel-item:only-child::after {width: 0;}#sk-container-id-4 div.sk-dashed-wrapped {border: 1px dashed gray;margin: 0 0.4em 0.5em 0.4em;box-sizing: border-box;padding-bottom: 0.4em;background-color: white;}#sk-container-id-4 div.sk-label label {font-family: monospace;font-weight: bold;display: inline-block;line-height: 1.2em;}#sk-container-id-4 div.sk-label-container {text-align: center;}#sk-container-id-4 div.sk-container {/* jupyter's `normalize.less` sets `[hidden] { display: none; }` but bootstrap.min.css set `[hidden] { display: none !important; }` so we also need the `!important` here to be able to override the default hidden behavior on the sphinx rendered scikit-learn.org. See: https://github.com/scikit-learn/scikit-learn/issues/21755 */display: inline-block !important;position: relative;}#sk-container-id-4 div.sk-text-repr-fallback {display: none;}</style><div id=\"sk-container-id-4\" class=\"sk-top-container\"><div class=\"sk-text-repr-fallback\"><pre>SVC(class_weight={0: 5.148666735303202, 1: 0.5537788605282099}, random_state=42)</pre><b>In a Jupyter environment, please rerun this cell to show the HTML representation or trust the notebook. <br />On GitHub, the HTML representation is unable to render, please try loading this page with nbviewer.org.</b></div><div class=\"sk-container\" hidden><div class=\"sk-item\"><div class=\"sk-estimator sk-toggleable\"><input class=\"sk-toggleable__control sk-hidden--visually\" id=\"sk-estimator-id-4\" type=\"checkbox\" checked><label for=\"sk-estimator-id-4\" class=\"sk-toggleable__label sk-toggleable__label-arrow\">SVC</label><div class=\"sk-toggleable__content\"><pre>SVC(class_weight={0: 5.148666735303202, 1: 0.5537788605282099}, random_state=42)</pre></div></div></div></div></div>"
      ],
      "text/plain": [
       "SVC(class_weight={0: 5.148666735303202, 1: 0.5537788605282099}, random_state=42)"
      ]
     },
     "execution_count": 117,
     "metadata": {},
     "output_type": "execute_result"
    }
   ],
   "source": [
    "#Train the model\n",
    "svm_classifier.fit(X_train, y_train)"
   ]
  },
  {
   "cell_type": "code",
   "execution_count": null,
   "id": "39f42700",
   "metadata": {},
   "outputs": [],
   "source": [
    "#Make prediction\n",
    "y_svm_train_pred = svm_classifier.predict(X_train)\n",
    "y_svm_val_pred = svm_classifier.predict(X_val)\n",
    "y_svm_test_pred = svm_classifier.predict(X_test)"
   ]
  },
  {
   "cell_type": "code",
   "execution_count": 99,
   "id": "08dbcac1",
   "metadata": {},
   "outputs": [
    {
     "name": "stdout",
     "output_type": "stream",
     "text": [
      "              precision    recall  f1-score   support\n",
      "\n",
      "           0       0.00      0.00      0.00       817\n",
      "           1       0.85      1.00      0.92      4475\n",
      "\n",
      "    accuracy                           0.85      5292\n",
      "   macro avg       0.42      0.50      0.46      5292\n",
      "weighted avg       0.71      0.85      0.77      5292\n",
      "\n"
     ]
    }
   ],
   "source": [
    "# Print classification report\n",
    "print(classification_report(y_test, y_log_test_pred))"
   ]
  },
  {
   "cell_type": "markdown",
   "id": "a7b71645",
   "metadata": {},
   "source": [
    "## 1.3 K-Nearest Neighbour KNN "
   ]
  },
  {
   "cell_type": "code",
   "execution_count": 103,
   "id": "62cf1d2c",
   "metadata": {},
   "outputs": [
    {
     "data": {
      "image/png": "[encoded data removed]",
      "text/plain": [
       "<Figure size 640x480 with 1 Axes>"
      ]
     },
     "metadata": {},
     "output_type": "display_data"
    }
   ],
   "source": [
    "# Find the number of neighbour N with Elbow Method\n",
    "\n",
    "from sklearn.neighbors import KNeighborsClassifier\n",
    "from sklearn.metrics import accuracy_score\n",
    "\n",
    "\n",
    "# Initialize empty lists to store results\n",
    "k_values = []\n",
    "accuracy_values = []\n",
    "\n",
    "# Test different values of K\n",
    "for k in range(1, 20):\n",
    "    knn_model = KNeighborsClassifier(n_neighbors=k)\n",
    "    knn_model.fit(X_train, y_train)\n",
    "    y_pred = knn_model.predict(X_val)\n",
    "    accuracy = accuracy_score(y_val, y_pred)\n",
    "\n",
    "    k_values.append(k)\n",
    "    accuracy_values.append(accuracy)\n",
    "\n",
    "# Plot the results\n",
    "plt.plot(k_values, accuracy_values, marker='o')\n",
    "plt.xlabel('Number of Neighbors (K)')\n",
    "plt.ylabel('Accuracy')\n",
    "plt.show()"
   ]
  },
  {
   "cell_type": "code",
   "execution_count": 106,
   "id": "fb96b2e4",
   "metadata": {},
   "outputs": [],
   "source": [
    "# From the elbow diagram above, I chose n = 5 as it offers the optimum accuracy \n",
    "\n",
    "# Initialize the KNN model with n = 5 \n",
    "knn_model = KNeighborsClassifier(n_neighbors=5)"
   ]
  },
  {
   "cell_type": "code",
   "execution_count": 108,
   "id": "2864120a",
   "metadata": {},
   "outputs": [
    {
     "data": {
      "text/html": [
       "<style>#sk-container-id-3 {color: black;}#sk-container-id-3 pre{padding: 0;}#sk-container-id-3 div.sk-toggleable {background-color: white;}#sk-container-id-3 label.sk-toggleable__label {cursor: pointer;display: block;width: 100%;margin-bottom: 0;padding: 0.3em;box-sizing: border-box;text-align: center;}#sk-container-id-3 label.sk-toggleable__label-arrow:before {content: \"▸\";float: left;margin-right: 0.25em;color: #696969;}#sk-container-id-3 label.sk-toggleable__label-arrow:hover:before {color: black;}#sk-container-id-3 div.sk-estimator:hover label.sk-toggleable__label-arrow:before {color: black;}#sk-container-id-3 div.sk-toggleable__content {max-height: 0;max-width: 0;overflow: hidden;text-align: left;background-color: #f0f8ff;}#sk-container-id-3 div.sk-toggleable__content pre {margin: 0.2em;color: black;border-radius: 0.25em;background-color: #f0f8ff;}#sk-container-id-3 input.sk-toggleable__control:checked~div.sk-toggleable__content {max-height: 200px;max-width: 100%;overflow: auto;}#sk-container-id-3 input.sk-toggleable__control:checked~label.sk-toggleable__label-arrow:before {content: \"▾\";}#sk-container-id-3 div.sk-estimator input.sk-toggleable__control:checked~label.sk-toggleable__label {background-color: #d4ebff;}#sk-container-id-3 div.sk-label input.sk-toggleable__control:checked~label.sk-toggleable__label {background-color: #d4ebff;}#sk-container-id-3 input.sk-hidden--visually {border: 0;clip: rect(1px 1px 1px 1px);clip: rect(1px, 1px, 1px, 1px);height: 1px;margin: -1px;overflow: hidden;padding: 0;position: absolute;width: 1px;}#sk-container-id-3 div.sk-estimator {font-family: monospace;background-color: #f0f8ff;border: 1px dotted black;border-radius: 0.25em;box-sizing: border-box;margin-bottom: 0.5em;}#sk-container-id-3 div.sk-estimator:hover {background-color: #d4ebff;}#sk-container-id-3 div.sk-parallel-item::after {content: \"\";width: 100%;border-bottom: 1px solid gray;flex-grow: 1;}#sk-container-id-3 div.sk-label:hover label.sk-toggleable__label {background-color: #d4ebff;}#sk-container-id-3 div.sk-serial::before {content: \"\";position: absolute;border-left: 1px solid gray;box-sizing: border-box;top: 0;bottom: 0;left: 50%;z-index: 0;}#sk-container-id-3 div.sk-serial {display: flex;flex-direction: column;align-items: center;background-color: white;padding-right: 0.2em;padding-left: 0.2em;position: relative;}#sk-container-id-3 div.sk-item {position: relative;z-index: 1;}#sk-container-id-3 div.sk-parallel {display: flex;align-items: stretch;justify-content: center;background-color: white;position: relative;}#sk-container-id-3 div.sk-item::before, #sk-container-id-3 div.sk-parallel-item::before {content: \"\";position: absolute;border-left: 1px solid gray;box-sizing: border-box;top: 0;bottom: 0;left: 50%;z-index: -1;}#sk-container-id-3 div.sk-parallel-item {display: flex;flex-direction: column;z-index: 1;position: relative;background-color: white;}#sk-container-id-3 div.sk-parallel-item:first-child::after {align-self: flex-end;width: 50%;}#sk-container-id-3 div.sk-parallel-item:last-child::after {align-self: flex-start;width: 50%;}#sk-container-id-3 div.sk-parallel-item:only-child::after {width: 0;}#sk-container-id-3 div.sk-dashed-wrapped {border: 1px dashed gray;margin: 0 0.4em 0.5em 0.4em;box-sizing: border-box;padding-bottom: 0.4em;background-color: white;}#sk-container-id-3 div.sk-label label {font-family: monospace;font-weight: bold;display: inline-block;line-height: 1.2em;}#sk-container-id-3 div.sk-label-container {text-align: center;}#sk-container-id-3 div.sk-container {/* jupyter's `normalize.less` sets `[hidden] { display: none; }` but bootstrap.min.css set `[hidden] { display: none !important; }` so we also need the `!important` here to be able to override the default hidden behavior on the sphinx rendered scikit-learn.org. See: https://github.com/scikit-learn/scikit-learn/issues/21755 */display: inline-block !important;position: relative;}#sk-container-id-3 div.sk-text-repr-fallback {display: none;}</style><div id=\"sk-container-id-3\" class=\"sk-top-container\"><div class=\"sk-text-repr-fallback\"><pre>KNeighborsClassifier()</pre><b>In a Jupyter environment, please rerun this cell to show the HTML representation or trust the notebook. <br />On GitHub, the HTML representation is unable to render, please try loading this page with nbviewer.org.</b></div><div class=\"sk-container\" hidden><div class=\"sk-item\"><div class=\"sk-estimator sk-toggleable\"><input class=\"sk-toggleable__control sk-hidden--visually\" id=\"sk-estimator-id-3\" type=\"checkbox\" checked><label for=\"sk-estimator-id-3\" class=\"sk-toggleable__label sk-toggleable__label-arrow\">KNeighborsClassifier</label><div class=\"sk-toggleable__content\"><pre>KNeighborsClassifier()</pre></div></div></div></div></div>"
      ],
      "text/plain": [
       "KNeighborsClassifier()"
      ]
     },
     "execution_count": 108,
     "metadata": {},
     "output_type": "execute_result"
    }
   ],
   "source": [
    "# Train the model\n",
    "knn_model.fit(X_train, y_train)"
   ]
  },
  {
   "cell_type": "code",
   "execution_count": 109,
   "id": "cc508a7c",
   "metadata": {},
   "outputs": [],
   "source": [
    "# Make predictions on the test set\n",
    "y_pred = knn_model.predict(X_test)"
   ]
  },
  {
   "cell_type": "code",
   "execution_count": 111,
   "id": "e5f73e81",
   "metadata": {},
   "outputs": [],
   "source": [
    "conf_matrix = confusion_matrix(y_test, y_pred)"
   ]
  },
  {
   "cell_type": "code",
   "execution_count": 112,
   "id": "71ea5b6e",
   "metadata": {},
   "outputs": [
    {
     "name": "stdout",
     "output_type": "stream",
     "text": [
      "Confusion Matrix:\n",
      "[[ 119  698]\n",
      " [ 132 4343]]\n"
     ]
    }
   ],
   "source": [
    "print(\"Confusion Matrix:\")\n",
    "print(conf_matrix)"
   ]
  },
  {
   "cell_type": "code",
   "execution_count": 113,
   "id": "142ef503",
   "metadata": {
    "scrolled": true
   },
   "outputs": [
    {
     "name": "stdout",
     "output_type": "stream",
     "text": [
      "Classification Report:\n",
      "              precision    recall  f1-score   support\n",
      "\n",
      "           0       0.47      0.15      0.22       817\n",
      "           1       0.86      0.97      0.91      4475\n",
      "\n",
      "    accuracy                           0.84      5292\n",
      "   macro avg       0.67      0.56      0.57      5292\n",
      "weighted avg       0.80      0.84      0.81      5292\n",
      "\n"
     ]
    }
   ],
   "source": [
    "classification_rep = classification_report(y_test, y_pred)\n",
    "\n",
    "print(\"Classification Report:\")\n",
    "print(classification_rep)"
   ]
  }
 ],
 "metadata": {
  "kernelspec": {
   "display_name": "Python 3 (ipykernel)",
   "language": "python",
   "name": "python3"
  },
  "language_info": {
   "codemirror_mode": {
    "name": "ipython",
    "version": 3
   },
   "file_extension": ".py",
   "mimetype": "text/x-python",
   "name": "python",
   "nbconvert_exporter": "python",
   "pygments_lexer": "ipython3",
   "version": "3.11.4"
  }
 },
 "nbformat": 4,
 "nbformat_minor": 5
}
